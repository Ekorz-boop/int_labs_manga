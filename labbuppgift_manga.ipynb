{
 "cells": [
  {
   "cell_type": "markdown",
   "id": "1348e1db",
   "metadata": {},
   "source": [
    "# Introduction\n",
    "\n",
    "Manga & Anime dataset 2024, link: https://www.kaggle.com/datasets/duongtruongbinh/manga-and-anime-dataset"
   ]
  },
  {
   "cell_type": "markdown",
   "id": "f31fd019",
   "metadata": {},
   "source": [
    "## Problem"
   ]
  },
  {
   "cell_type": "markdown",
   "id": "885dacec",
   "metadata": {},
   "source": [
    "As people who enjoy reading manga and watching anime, we often ask ourselves the question; why do some manga succeed, when others don't? Many times it seems like long running manga series, that are somewhat of a staple in the community, just continue to reap success even though they have long ago lost any resemblance of creativity. Meanwhile new up and coming series, which often actually include fresh and new creative ideas, many times fail to establish themselves and dont renew for more seasons or chapters. Often it seems that the longer a manga series is ongoing, the more likely it is to succeed. \n",
    "\n",
    "Thus, the problem is simple. If a new manga is to establish itself, how would it maximize it's chances of success? Will adding more chapters give a better audience reception? Also, which genre is most likely to succeed, and should thus be chosen by the new manga series trying to establish itself?"
   ]
  },
  {
   "cell_type": "markdown",
   "id": "a1ab8105",
   "metadata": {},
   "source": [
    "## Hypothesis"
   ]
  },
  {
   "cell_type": "markdown",
   "id": "86ff4f0f",
   "metadata": {},
   "source": [
    "Adding more chapters will give the new manga a better audience reception."
   ]
  },
  {
   "cell_type": "markdown",
   "id": "732f5165",
   "metadata": {},
   "source": [
    "## Strategy"
   ]
  },
  {
   "cell_type": "markdown",
   "id": "fb05aa4a",
   "metadata": {},
   "source": [
    "In order to determine the hypothesis is true we first need to establish what metrics it is that we are measuring. Audience perception is the same as its overall popularity, score and rankning compared to other manga. It would thus seem appropriate to measure this with Score, Popularity and Rank from our dataset. We also need to keep in mind the total number of votes for each manga, because a low number of ratings (but each is extraordinarily high) on for example the score could lead to a skewed picture of the actual score compared to a manga with millions of ratings on score. Regarding the genre we need to determine a few things. Which is the most popular genre? Is there any overall trends that could affect the choice of manga? Is there any major difference regarding the main hypothesis for different genres?\n",
    "\n",
    "What we need to examine is hence:\n",
    "* Score based on Chapters\n",
    "* Popularity based on Chapters\n",
    "* Rank based on Chapters\n",
    "* Take number of votes into account, for example by filtering out outliers of the other metrics that have a low number of votes.\n",
    "* All of the above but for the main genres to examine of different genres favour different amount of chapters\n",
    "* Current trends in genre popularity, etc, to examine if there is any merit to not chosing the most popular genre (for example if it's popularity is in decline or if one genre has drastically lower average ratings than others)\n",
    "\n"
   ]
  },
  {
   "cell_type": "markdown",
   "id": "8150adc3",
   "metadata": {},
   "source": [
    "# Data Analysis"
   ]
  },
  {
   "cell_type": "markdown",
   "id": "6eadcc18",
   "metadata": {},
   "source": [
    "Firstly the main components that will be used during the data analysis must be imported. These are Matplotlib, Numpy and Pandas."
   ]
  },
  {
   "cell_type": "code",
   "execution_count": null,
   "id": "cb442fdc",
   "metadata": {},
   "outputs": [],
   "source": [
    "# General Imports needed for the data analysis\n",
    "import matplotlib.pyplot as mpl\n",
    "import numpy as np\n",
    "import pandas as pd"
   ]
  }
 ],
 "metadata": {
  "kernelspec": {
   "display_name": "Python 3 (ipykernel)",
   "language": "python",
   "name": "python3"
  },
  "language_info": {
   "codemirror_mode": {
    "name": "ipython",
    "version": 3
   },
   "file_extension": ".py",
   "mimetype": "text/x-python",
   "name": "python",
   "nbconvert_exporter": "python",
   "pygments_lexer": "ipython3",
   "version": "3.11.8"
  }
 },
 "nbformat": 4,
 "nbformat_minor": 5
}
